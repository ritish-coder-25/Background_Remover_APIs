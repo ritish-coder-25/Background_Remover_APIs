{
 "cells": [
  {
   "cell_type": "markdown",
   "id": "d53c75f3-4ceb-4187-94a3-c53eff8aba2c",
   "metadata": {},
   "source": [
    "<h1>Background Removal Model</h1>\n",
    "<p>\n",
    "    The model uses the 'rembg' library which implements and trains a U2-NET neural network model to process images.\n",
    "</p>\n",
    "<p>\n",
    "    The functions here work as follows - \n",
    "    <ul>\n",
    "        <li>download_image(img_url): This function takes in the url of the image and then downloads the image and returns it.</li>\n",
    "        <li>save_image(img, path): This function takes in the return value from the download_image function and saves it to a path mentioned in the code.</li>\n",
    "        <li>remove_background(img, alpha_matting=True, alpha_matting_foreground_threshold=50): This function takes in the image as input and then removes the background and saves it to a path.</li>\n",
    "        <li>change_background(foreground_img, background_img_url): This function takes in the background_removed_image and downloads the new background image and makes it a new background.</li>\n",
    "    </ul>\n",
    "</p>\n",
    "<p>\n",
    "    NOTE: Please make sure to run this code in local machine. Keep two directories 'original' and 'masked' and this code file in the same directory and then run it.\n",
    "</p>"
   ]
  },
  {
   "cell_type": "code",
   "execution_count": 1,
   "id": "62813fd2-f86d-45d5-a00c-7e1c763f6550",
   "metadata": {},
   "outputs": [
    {
     "name": "stderr",
     "output_type": "stream",
     "text": [
      "C:\\ProgramData\\anaconda3\\lib\\site-packages\\paramiko\\transport.py:219: CryptographyDeprecationWarning: Blowfish has been deprecated and will be removed in a future release\n",
      "  \"class\": algorithms.Blowfish,\n"
     ]
    }
   ],
   "source": [
    "import os\n",
    "from io import BytesIO\n",
    "from PIL import Image\n",
    "import requests\n",
    "from rembg import remove"
   ]
  },
  {
   "cell_type": "code",
   "execution_count": 2,
   "id": "3a03f391-dac4-472c-a99d-f4f2719cb4de",
   "metadata": {},
   "outputs": [],
   "source": [
    "def download_image(img_url):\n",
    "    response = requests.get(img_url)\n",
    "    img = Image.open(BytesIO(response.content))\n",
    "    return img"
   ]
  },
  {
   "cell_type": "code",
   "execution_count": 3,
   "id": "ade511a7-1765-45d0-a84f-11bea548bee4",
   "metadata": {},
   "outputs": [],
   "source": [
    "def save_image(img, path):\n",
    "    os.makedirs(os.path.dirname(path), exist_ok=True)\n",
    "    if img.mode == 'RGBA':\n",
    "        img = img.convert('RGB')\n",
    "        path = os.path.splitext(path)[0] + '.png'\n",
    "    img.save(path)"
   ]
  },
  {
   "cell_type": "code",
   "execution_count": 4,
   "id": "0d52371d-0887-4c72-85e9-24e9f201413c",
   "metadata": {},
   "outputs": [],
   "source": [
    "def remove_background(img, alpha_matting=True, alpha_matting_foreground_threshold=50):\n",
    "    img_byte_arr = BytesIO()\n",
    "    img.save(img_byte_arr, format='PNG')\n",
    "    img_byte_arr = img_byte_arr.getvalue()\n",
    "    subject = remove(img_byte_arr, \n",
    "                     alpha_matting=alpha_matting, \n",
    "                     alpha_matting_foreground_threshold=alpha_matting_foreground_threshold)\n",
    "    return Image.open(BytesIO(subject))"
   ]
  },
  {
   "cell_type": "code",
   "execution_count": 5,
   "id": "d5fb26e4-bb41-49ee-99e8-1389359ac33b",
   "metadata": {},
   "outputs": [],
   "source": [
    "def change_background(foreground_img, background_img_url):\n",
    "    background_img = download_image(background_img_url)\n",
    "    background_img = background_img.resize(foreground_img.size)\n",
    "    background_img.paste(foreground_img, (0, 0), foreground_img)\n",
    "    return background_img"
   ]
  },
  {
   "cell_type": "code",
   "execution_count": 6,
   "id": "13a8d5ca-d949-4b3a-a5ff-e4d722b7163c",
   "metadata": {},
   "outputs": [],
   "source": [
    "img_url = 'https://nationaltoday.com/wp-content/uploads/2020/12/National-Horse-Day-1-1200x834.jpg'\n",
    "background_img_url = 'https://img.freepik.com/free-photo/digital-lavender-natural-landscape_23-2150538352.jpg'\n",
    "img_name = img_url.split('/')[-1]\n",
    "\n",
    "original_img = download_image(img_url)\n",
    "save_image(original_img, 'original/' + img_name)\n",
    "\n",
    "foreground_img = remove_background(original_img)\n",
    "save_image(foreground_img, 'masked/' + img_name)\n",
    "\n",
    "final_img = change_background(foreground_img, background_img_url)\n",
    "save_image(final_img, 'new_background/background.jpg')"
   ]
  },
  {
   "cell_type": "code",
   "execution_count": null,
   "id": "9dcf238b-88dc-4169-88a2-15c9d03ca179",
   "metadata": {},
   "outputs": [],
   "source": []
  }
 ],
 "metadata": {
  "kernelspec": {
   "display_name": "Python 3 (ipykernel)",
   "language": "python",
   "name": "python3"
  },
  "language_info": {
   "codemirror_mode": {
    "name": "ipython",
    "version": 3
   },
   "file_extension": ".py",
   "mimetype": "text/x-python",
   "name": "python",
   "nbconvert_exporter": "python",
   "pygments_lexer": "ipython3",
   "version": "3.9.19"
  }
 },
 "nbformat": 4,
 "nbformat_minor": 5
}
